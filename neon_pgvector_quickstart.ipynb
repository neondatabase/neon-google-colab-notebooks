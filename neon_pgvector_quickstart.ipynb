{
  "nbformat": 4,
  "nbformat_minor": 0,
  "metadata": {
    "colab": {
      "provenance": []
    },
    "kernelspec": {
      "name": "python3",
      "display_name": "Python 3"
    },
    "language_info": {
      "name": "python"
    }
  },
  "cells": [
    {
      "cell_type": "code",
      "execution_count": 2,
      "metadata": {
        "id": "Zpsv--MaC6tT"
      },
      "outputs": [],
      "source": [
        "import os\n",
        "import psycopg2\n",
        "\n",
        "# Replace the next line with Your Neon connection string.\n",
        "connection_string = \"postgres://<user>:<password>@<hostname>/neondb\"\n",
        "\n",
        "# Connect using the connection string\n",
        "connection = psycopg2.connect(connection_string)\n",
        "\n",
        "# Create a new cursor object\n",
        "cursor = connection.cursor()"
      ]
    },
    {
      "cell_type": "code",
      "source": [
        "# Execute this query to test the database connection\n",
        "cursor.execute(\"SELECT 1;\")\n",
        "result = cursor.fetchone()\n",
        "\n",
        "# Check the query result\n",
        "if result == (1,):\n",
        "    print(\"Your database connection was successful!\")\n",
        "else:\n",
        "    print(\"Your connection failed.\")"
      ],
      "metadata": {
        "colab": {
          "base_uri": "https://localhost:8080/"
        },
        "id": "JLPpv4UOEVPw",
        "outputId": "055cf23b-fc64-408f-8dfa-19854d7f8fdb"
      },
      "execution_count": 3,
      "outputs": [
        {
          "output_type": "stream",
          "name": "stdout",
          "text": [
            "Your database connection was successful!\n"
          ]
        }
      ]
    },
    {
      "cell_type": "code",
      "source": [
        "# Execute this query to install the pgvector extension\n",
        "cursor.execute(\"CREATE EXTENSION IF NOT EXISTS vector;\")\n"
      ],
      "metadata": {
        "id": "qOzr8QrXNdoU"
      },
      "execution_count": 4,
      "outputs": []
    },
    {
      "cell_type": "code",
      "source": [
        "create_table_sql = '''\n",
        "CREATE TABLE items (\n",
        "  id BIGSERIAL PRIMARY KEY,\n",
        "  embedding VECTOR(3)\n",
        ");\n",
        "'''\n",
        "\n",
        "# Insert data\n",
        "insert_data_sql = '''\n",
        "INSERT INTO items (embedding) VALUES ('[1,2,3]'), ('[4,5,6]'), ('[7,8,9]');\n",
        "'''\n",
        "\n",
        "# Execute the SQL statements\n",
        "cursor.execute(create_table_sql)\n",
        "cursor.execute(insert_data_sql)\n",
        "\n",
        "# Commit the changes\n",
        "connection.commit()"
      ],
      "metadata": {
        "id": "f9kZegstFHnN"
      },
      "execution_count": 5,
      "outputs": []
    },
    {
      "cell_type": "code",
      "source": [
        "cursor.execute(\"SELECT * FROM items ORDER BY embedding <-> '[3,1,2]' LIMIT 3;\")\n",
        "all_data = cursor.fetchall()\n",
        "print(all_data)"
      ],
      "metadata": {
        "colab": {
          "base_uri": "https://localhost:8080/"
        },
        "id": "EM_ERMhDKh_z",
        "outputId": "ee45ce34-93e5-4223-b05c-e1617dd2c6d7"
      },
      "execution_count": 6,
      "outputs": [
        {
          "output_type": "stream",
          "name": "stdout",
          "text": [
            "[(1, '[1,2,3]'), (2, '[4,5,6]'), (3, '[7,8,9]')]\n"
          ]
        }
      ]
    }
  ]
}